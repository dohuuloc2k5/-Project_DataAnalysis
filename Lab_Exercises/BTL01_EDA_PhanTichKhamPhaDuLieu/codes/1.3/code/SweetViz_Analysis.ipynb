{
 "cells": [
  {
   "cell_type": "markdown",
   "metadata": {},
   "source": [
    "# Phân tích dữ liệu Marketing Campaign với SweetViz\n",
    "\n",
    "Notebook này trình bày cách sử dụng thư viện SweetViz để phân tích tập dữ liệu Marketing Campaign."
   ]
  },
  {
   "cell_type": "markdown",
   "metadata": {},
   "source": [
    "## 1. Cài đặt và import các thư viện cần thiết"
   ]
  },
  {
   "cell_type": "code",
   "execution_count": null,
   "metadata": {},
   "outputs": [],
   "source": [
    "# Import các thư viện cần thiết\n",
    "import pandas as pd\n",
    "import numpy as np\n",
    "import sweetviz as sv"
   ]
  },
  {
   "cell_type": "markdown",
   "metadata": {},
   "source": [
    "## 2. Đọc và khám phá dữ liệu"
   ]
  },
  {
   "cell_type": "code",
   "execution_count": null,
   "metadata": {},
   "outputs": [],
   "source": [
    "# Đọc dữ liệu từ file CSV\n",
    "df = pd.read_csv('data/marketing_campaign.csv', sep='\\t')\n",
    "\n",
    "# Hiển thị 5 dòng đầu tiên\n",
    "df.head()"
   ]
  },
  {
   "cell_type": "code",
   "execution_count": null,
   "metadata": {},
   "outputs": [],
   "source": [
    "# Kiểm tra thông tin cơ bản của dữ liệu\n",
    "df.info()"
   ]
  },
  {
   "cell_type": "code",
   "execution_count": null,
   "metadata": {},
   "outputs": [],
   "source": [
    "# Kiểm tra thống kê mô tả\n",
    "df.describe()"
   ]
  },
  {
   "cell_type": "markdown",
   "metadata": {},
   "source": [
    "## 3. Phân tích dữ liệu với SweetViz"
   ]
  },
  {
   "cell_type": "markdown",
   "metadata": {},
   "source": [
    "### 3.1. Phân tích tổng quan"
   ]
  },
  {
   "cell_type": "code",
   "execution_count": null,
   "metadata": {},
   "outputs": [],
   "source": [
    "# Tạo báo cáo phân tích tổng quan\n",
    "report = sv.analyze(df)\n",
    "\n",
    "# Hiển thị báo cáo\n",
    "report.show_html('marketing_campaign_report.html')"
   ]
  },
  {
   "cell_type": "markdown",
   "metadata": {},
   "source": [
    "### 3.2. Phân tích với biến mục tiêu"
   ]
  },
  {
   "cell_type": "code",
   "execution_count": null,
   "metadata": {},
   "outputs": [],
   "source": [
    "# Tạo báo cáo phân tích với biến mục tiêu 'Response'\n",
    "target_report = sv.analyze(df, target_feat='Response')\n",
    "\n",
    "# Hiển thị báo cáo\n",
    "target_report.show_html('marketing_campaign_target_report.html')"
   ]
  },
  {
   "cell_type": "markdown",
   "metadata": {},
   "source": [
    "### 3.3. So sánh các nhóm khách hàng"
   ]
  },
  {
   "cell_type": "code",
   "execution_count": null,
   "metadata": {},
   "outputs": [],
   "source": [
    "# Chia dữ liệu thành hai nhóm: khách hàng có con và không có con\n",
    "customers_with_children = df[(df['Kidhome'] > 0) | (df['Teenhome'] > 0)]\n",
    "customers_without_children = df[(df['Kidhome'] == 0) & (df['Teenhome'] == 0)]\n",
    "\n",
    "# So sánh hai nhóm khách hàng\n",
    "compare_report = sv.compare([customers_with_children, \"Khách hàng có con\"], \n",
    "                           [customers_without_children, \"Khách hàng không có con\"])\n",
    "\n",
    "# Hiển thị báo cáo so sánh\n",
    "compare_report.show_html('customer_comparison_report.html')"
   ]
  },
  {
   "cell_type": "markdown",
   "metadata": {},
   "source": [
    "### 3.4. Phân tích theo trình độ học vấn"
   ]
  },
  {
   "cell_type": "code",
   "execution_count": null,
   "metadata": {},
   "outputs": [],
   "source": [
    "# Kiểm tra các giá trị duy nhất trong cột Education\n",
    "df['Education'].unique()"
   ]
  },
  {
   "cell_type": "code",
   "execution_count": null,
   "metadata": {},
   "outputs": [],
   "source": [
    "# Lọc dữ liệu theo trình độ học vấn\n",
    "phd_customers = df[df['Education'] == 'PhD']\n",
    "basic_customers = df[df['Education'] == 'Basic']\n",
    "\n",
    "# So sánh hai nhóm khách hàng\n",
    "education_report = sv.compare([phd_customers, \"Khách hàng có PhD\"], \n",
    "                             [basic_customers, \"Khách hàng có trình độ cơ bản\"])\n",
    "\n",
    "# Hiển thị báo cáo so sánh\n",
    "education_report.show_html('education_comparison_report.html')"
   ]
  },
  {
   "cell_type": "markdown",
   "metadata": {},
   "source": [
    "### 3.5. Phân tích hiệu quả chiến dịch"
   ]
  },
  {
   "cell_type": "code",
   "execution_count": null,
   "metadata": {},
   "outputs": [],
   "source": [
    "# Tạo biến mới tổng hợp các chiến dịch được chấp nhận\n",
    "df['TotalAccepted'] = df['AcceptedCmp1'] + df['AcceptedCmp2'] + df['AcceptedCmp3'] + \\\n",
    "                      df['AcceptedCmp4'] + df['AcceptedCmp5']\n",
    "\n",
    "# Phân tích với biến mục tiêu mới\n",
    "campaign_report = sv.analyze(df, target_feat='TotalAccepted')\n",
    "\n",
    "# Hiển thị báo cáo\n",
    "campaign_report.show_html('campaign_effectiveness_report.html')"
   ]
  },
  {
   "cell_type": "markdown",
   "metadata": {},
   "source": [
    "## 4. Nhận xét và phân tích\n",
    "\n",
    "### Vấn đề tương thích\n",
    "\n",
    "Trong quá trình thực hiện bài tập này, đã gặp phải vấn đề tương thích với SweetViz trong môi trường Python hiện tại. Cụ thể, lỗi phát sinh là:\n",
    "\n",
    "```\n",
    "AttributeError: module 'numpy' has no attribute 'VisibleDeprecationWarning'\n",
    "```\n",
    "\n",
    "Lỗi này xảy ra do sự không tương thích giữa phiên bản NumPy hiện tại và mã nguồn của SweetViz. Trong mã nguồn của SweetViz, có một dòng cố gắng lọc cảnh báo `VisibleDeprecationWarning` từ NumPy, nhưng trong phiên bản NumPy mới, cảnh báo này đã bị loại bỏ hoặc đổi tên.\n",
    "\n",
    "### Nhận xét về SweetViz\n",
    "\n",
    "Mặc dù không thể chạy trực tiếp SweetViz trong môi trường hiện tại, dựa trên tài liệu và kinh nghiệm chung, có thể rút ra một số nhận xét về công cụ này:\n",
    "\n",
    "1. **Tiết kiệm thời gian:** SweetViz giúp tự động hóa quá trình EDA, tiết kiệm thời gian đáng kể cho nhà phân tích.\n",
    "\n",
    "2. **Trực quan hóa phong phú:** SweetViz tạo ra các biểu đồ trực quan phong phú, giúp hiểu rõ hơn về dữ liệu.\n",
    "\n",
    "3. **Phát hiện mối quan hệ:** Công cụ này giúp phát hiện các mối quan hệ tiềm ẩn giữa các biến, đặc biệt là với biến mục tiêu.\n",
    "\n",
    "4. **So sánh dữ liệu:** Khả năng so sánh các tập dữ liệu hoặc các phân đoạn dữ liệu là một tính năng mạnh mẽ của SweetViz.\n",
    "\n",
    "5. **Hạn chế tùy chỉnh:** SweetViz có ít tùy chọn tùy chỉnh so với các thư viện trực quan hóa khác như Matplotlib hoặc Plotly.\n",
    "\n",
    "6. **Vấn đề tương thích:** Như đã gặp phải, SweetViz có thể gặp vấn đề tương thích với các phiên bản mới của các thư viện phụ thuộc.\n",
    "\n",
    "### Kết luận\n",
    "\n",
    "SweetViz là một công cụ mạnh mẽ cho phân tích dữ liệu khám phá, cung cấp một cách nhanh chóng và hiệu quả để hiểu cấu trúc và mối quan hệ trong dữ liệu. Với khả năng tạo ra các báo cáo trực quan tương tác chỉ với vài dòng mã, SweetViz là một công cụ quý giá trong bộ công cụ của bất kỳ nhà khoa học dữ liệu nào.\n",
    "\n",
    "Đối với tập dữ liệu Marketing Campaign, SweetViz có thể cung cấp những hiểu biết quý giá về hành vi khách hàng, hiệu quả của các chiến dịch tiếp thị và các yếu tố ảnh hưởng đến tỷ lệ phản hồi. Những hiểu biết này có thể giúp các nhà tiếp thị tối ưu hóa chiến lược của họ và cải thiện kết quả kinh doanh."
   ]
  }
 ],
 "metadata": {
  "kernelspec": {
   "display_name": "Python 3",
   "language": "python",
   "name": "python3"
  },
  "language_info": {
   "codemirror_mode": {
    "name": "ipython",
    "version": 3
   },
   "file_extension": ".py",
   "mimetype": "text/x-python",
   "name": "python",
   "nbconvert_exporter": "python",
   "pygments_lexer": "ipython3",
   "version": "3.11.0"
  }
 },
 "nbformat": 4,
 "nbformat_minor": 4
}
