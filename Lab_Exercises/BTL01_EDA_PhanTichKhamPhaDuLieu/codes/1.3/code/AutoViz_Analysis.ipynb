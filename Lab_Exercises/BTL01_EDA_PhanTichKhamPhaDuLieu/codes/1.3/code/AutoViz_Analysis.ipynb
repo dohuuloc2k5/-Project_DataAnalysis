{
 "cells": [
  {
   "cell_type": "markdown",
   "metadata": {},
   "source": [
    "# Phân tích dữ liệu Marketing Campaign với AutoViz\n",
    "\n",
    "Notebook này trình bày cách sử dụng thư viện AutoViz để phân tích tập dữ liệu Marketing Campaign."
   ]
  },
  {
   "cell_type": "markdown",
   "metadata": {},
   "source": [
    "## 1. Cài đặt và import các thư viện cần thiết"
   ]
  },
  {
   "cell_type": "code",
   "execution_count": null,
   "metadata": {},
   "outputs": [],
   "source": [
    "# Cài đặt AutoViz nếu chưa có\n",
    "!pip install autoviz\n",
    "\n",
    "# Import các thư viện cần thiết\n",
    "import pandas as pd\n",
    "import numpy as np\n",
    "from autoviz.AutoViz_Class import AutoViz_Class"
   ]
  },
  {
   "cell_type": "markdown",
   "metadata": {},
   "source": [
    "## 2. Đọc và khám phá dữ liệu"
   ]
  },
  {
   "cell_type": "code",
   "execution_count": null,
   "metadata": {},
   "outputs": [],
   "source": [
    "# Đọc dữ liệu từ file CSV\n",
    "df = pd.read_csv('marketing_campaign.csv', sep='\\t')\n",
    "\n",
    "# Hiển thị 5 dòng đầu tiên\n",
    "df.head()"
   ]
  },
  {
   "cell_type": "code",
   "execution_count": null,
   "metadata": {},
   "outputs": [],
   "source": [
    "# Kiểm tra thông tin cơ bản của dữ liệu\n",
    "df.info()"
   ]
  },
  {
   "cell_type": "code",
   "execution_count": null,
   "metadata": {},
   "outputs": [],
   "source": [
    "# Kiểm tra thống kê mô tả\n",
    "df.describe()"
   ]
  },
  {
   "cell_type": "markdown",
   "metadata": {},
   "source": [
    "## 3. Phân tích dữ liệu với AutoViz"
   ]
  },
  {
   "cell_type": "markdown",
   "metadata": {},
   "source": [
    "### 3.1. Khởi tạo AutoViz và phân tích tổng quan"
   ]
  },
  {
   "cell_type": "code",
   "execution_count": null,
   "metadata": {},
   "outputs": [],
   "source": [
    "# Khởi tạo AutoViz\n",
    "AV = AutoViz_Class()\n",
    "\n",
    "# Phân tích dữ liệu với AutoViz\n",
    "dft = AV.AutoViz(\n",
    "    filename='',\n",
    "    sep='\\t',\n",
    "    depVar='Response',  # Biến mục tiêu\n",
    "    dfte=df,\n",
    "    header=0,\n",
    "    verbose=2,\n",
    "    lowess=False,\n",
    "    chart_format='png',\n",
    "    max_rows_analyzed=2240,  # Phân tích toàn bộ dữ liệu\n",
    "    max_cols_analyzed=30\n",
    ")"
   ]
  },
  {
   "cell_type": "markdown",
   "metadata": {},
   "source": [
    "### 3.2. Phân tích với các biến mục tiêu khác nhau"
   ]
  },
  {
   "cell_type": "code",
   "execution_count": null,
   "metadata": {},
   "outputs": [],
   "source": [
    "# Phân tích với biến mục tiêu là AcceptedCmp1 (Chiến dịch 1)\n",
    "dft_cmp1 = AV.AutoViz(\n",
    "    filename='',\n",
    "    sep='\\t',\n",
    "    depVar='AcceptedCmp1',\n",
    "    dfte=df,\n",
    "    header=0,\n",
    "    verbose=1,\n",
    "    lowess=False,\n",
    "    chart_format='png',\n",
    "    max_rows_analyzed=1000,  # Giảm số lượng dòng để tăng tốc độ\n",
    "    max_cols_analyzed=30\n",
    ")"
   ]
  },
  {
   "cell_type": "markdown",
   "metadata": {},
   "source": [
    "### 3.3. Phân tích với tập dữ liệu con"
   ]
  },
  {
   "cell_type": "code",
   "execution_count": null,
   "metadata": {},
   "outputs": [],
   "source": [
    "# Tạo tập dữ liệu con chỉ bao gồm các khách hàng có con\n",
    "df_with_children = df[(df['Kidhome'] > 0) | (df['Teenhome'] > 0)]\n",
    "\n",
    "# Phân tích tập dữ liệu con\n",
    "dft_children = AV.AutoViz(\n",
    "    filename='',\n",
    "    sep='\\t',\n",
    "    depVar='Response',\n",
    "    dfte=df_with_children,\n",
    "    header=0,\n",
    "    verbose=1,\n",
    "    lowess=False,\n",
    "    chart_format='png',\n",
    "    max_rows_analyzed=1000,\n",
    "    max_cols_analyzed=30\n",
    ")"
   ]
  },
  {
   "cell_type": "markdown",
   "metadata": {},
   "source": [
    "### 3.4. Phân tích với các tùy chọn nâng cao"
   ]
  },
  {
   "cell_type": "code",
   "execution_count": null,
   "metadata": {},
   "outputs": [],
   "source": [
    "# Tạo biến mới tổng hợp các chiến dịch được chấp nhận\n",
    "df['TotalAccepted'] = df['AcceptedCmp1'] + df['AcceptedCmp2'] + df['AcceptedCmp3'] + \\\n",
    "                      df['AcceptedCmp4'] + df['AcceptedCmp5']\n",
    "\n",
    "# Phân tích với biến mục tiêu mới và các tùy chọn nâng cao\n",
    "dft_advanced = AV.AutoViz(\n",
    "    filename='',\n",
    "    sep='\\t',\n",
    "    depVar='TotalAccepted',\n",
    "    dfte=df,\n",
    "    header=0,\n",
    "    verbose=1,\n",
    "    lowess=True,  # Sử dụng LOWESS smoothing cho biểu đồ scatter\n",
    "    chart_format='png',\n",
    "    max_rows_analyzed=1000,\n",
    "    max_cols_analyzed=30,\n",
    "    ignore_vars=['ID', 'Z_CostContact', 'Z_Revenue'],  # Bỏ qua các biến không cần thiết\n",
    "    save_plot_dir='./AutoViz_Advanced_Plots'  # Lưu biểu đồ vào thư mục riêng\n",
    ")"
   ]
  },
  {
   "cell_type": "markdown",
   "metadata": {},
   "source": [
    "## 4. Nhận xét và phân tích"
   ]
  },
  {
   "cell_type": "markdown",
   "metadata": {},
   "source": [
    "### 4.1. Ưu điểm của AutoViz\n",
    "\n",
    "1. **Tự động hóa cao:** AutoViz tự động tạo ra nhiều loại biểu đồ khác nhau chỉ với một dòng mã, giúp tiết kiệm thời gian đáng kể.\n",
    "\n",
    "2. **Phát hiện vấn đề chất lượng dữ liệu:** AutoViz tự động phát hiện và báo cáo các vấn đề về chất lượng dữ liệu như giá trị thiếu, giá trị trùng lặp, v.v.\n",
    "\n",
    "3. **Đa dạng biểu đồ:** AutoViz tạo ra nhiều loại biểu đồ khác nhau như biểu đồ phân phối, biểu đồ hộp, biểu đồ thanh, biểu đồ nhiệt, biểu đồ scatter, v.v.\n",
    "\n",
    "4. **Phân tích theo biến mục tiêu:** AutoViz tự động phân tích mối quan hệ giữa các biến và biến mục tiêu, giúp hiểu rõ hơn về các yếu tố ảnh hưởng.\n",
    "\n",
    "5. **Tùy chỉnh linh hoạt:** AutoViz cung cấp nhiều tùy chọn để điều chỉnh quá trình phân tích, từ việc chọn biến mục tiêu đến việc bỏ qua các biến không cần thiết."
   ]
  },
  {
   "cell_type": "markdown",
   "metadata": {},
   "source": [
    "### 4.2. Phân tích kết quả\n",
    "\n",
    "Từ các biểu đồ được tạo ra bởi AutoViz, chúng ta có thể rút ra một số nhận xét về tập dữ liệu Marketing Campaign:\n",
    "\n",
    "1. **Phân phối biến mục tiêu:** Biến Response có sự mất cân bằng, với số lượng khách hàng phản hồi (1) ít hơn nhiều so với số lượng khách hàng không phản hồi (0).\n",
    "\n",
    "2. **Mối quan hệ giữa các biến:** Biểu đồ nhiệt cho thấy có mối tương quan giữa các biến liên quan đến chi tiêu (MntWines, MntMeatProducts, v.v.) và biến mục tiêu Response.\n",
    "\n",
    "3. **Phân phối thu nhập:** Biểu đồ phân phối cho thấy thu nhập của khách hàng có phân phối lệch phải, với một số lượng nhỏ khách hàng có thu nhập cao.\n",
    "\n",
    "4. **Ảnh hưởng của việc có con:** Biểu đồ hộp cho thấy khách hàng có con có xu hướng chi tiêu ít hơn và ít phản hồi chiến dịch hơn so với khách hàng không có con.\n",
    "\n",
    "5. **Hiệu quả của các chiến dịch trước đó:** Biểu đồ thanh cho thấy khách hàng đã phản hồi các chiến dịch trước đó có xu hướng phản hồi chiến dịch hiện tại cao hơn."
   ]
  },
  {
   "cell_type": "markdown",
   "metadata": {},
   "source": [
    "### 4.3. So sánh với SweetViz\n",
    "\n",
    "So với SweetViz, AutoViz có một số điểm khác biệt:\n",
    "\n",
    "1. **Tập trung vào biến mục tiêu:** AutoViz tập trung nhiều hơn vào việc phân tích mối quan hệ giữa các biến và biến mục tiêu, trong khi SweetViz cung cấp cái nhìn tổng quan hơn về toàn bộ dữ liệu.\n",
    "\n",
    "2. **Phát hiện vấn đề chất lượng dữ liệu:** AutoViz có khả năng phát hiện và báo cáo các vấn đề về chất lượng dữ liệu tốt hơn so với SweetViz.\n",
    "\n",
    "3. **Định dạng đầu ra:** SweetViz tạo ra báo cáo HTML tương tác, trong khi AutoViz tạo ra các file hình ảnh riêng lẻ.\n",
    "\n",
    "4. **Tùy chỉnh:** AutoViz cung cấp nhiều tùy chọn hơn để điều chỉnh quá trình phân tích, nhưng giao diện của SweetViz thân thiện với người dùng hơn.\n",
    "\n",
    "5. **Hiệu suất:** AutoViz có thể xử lý các tập dữ liệu lớn hơn so với SweetViz, nhưng có thể chậm hơn trong một số trường hợp."
   ]
  },
  {
   "cell_type": "markdown",
   "metadata": {},
   "source": [
    "## 5. Kết luận\n",
    "\n",
    "AutoViz là một công cụ mạnh mẽ cho phân tích dữ liệu khám phá tự động, đặc biệt hữu ích khi cần nhanh chóng hiểu về một tập dữ liệu mới. Với khả năng tạo ra nhiều loại biểu đồ khác nhau và phát hiện vấn đề chất lượng dữ liệu, AutoViz giúp tiết kiệm thời gian đáng kể trong quá trình EDA.\n",
    "\n",
    "Đối với tập dữ liệu Marketing Campaign, AutoViz đã giúp chúng ta hiểu rõ hơn về các yếu tố ảnh hưởng đến tỷ lệ phản hồi của khách hàng, từ đó có thể đưa ra các quyết định marketing hiệu quả hơn.\n",
    "\n",
    "Tuy nhiên, AutoViz cũng có một số hạn chế như không cung cấp báo cáo tương tác như SweetViz và có thể chậm khi xử lý các tập dữ liệu lớn. Vì vậy, tùy thuộc vào nhu cầu cụ thể, chúng ta có thể lựa chọn giữa AutoViz và SweetViz hoặc kết hợp cả hai để có cái nhìn toàn diện nhất về dữ liệu."
   ]
  }
 ],
 "metadata": {
  "kernelspec": {
   "display_name": "Python 3",
   "language": "python",
   "name": "python3"
  },
  "language_info": {
   "codemirror_mode": {
    "name": "ipython",
    "version": 3
   },
   "file_extension": ".py",
   "mimetype": "text/x-python",
   "name": "python",
   "nbconvert_exporter": "python",
   "pygments_lexer": "ipython3",
   "version": "3.11.0"
  }
 },
 "nbformat": 4,
 "nbformat_minor": 4
}
